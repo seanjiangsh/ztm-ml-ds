{
  "cells": [
    {
      "cell_type": "markdown",
      "metadata": {
        "id": "sY7qsZMrNVfJ"
      },
      "source": [
        "# 🐶 End-to-end Multil-class Dog Breed Classification\n",
        "\n",
        "This notebook builds an end-to-end multi-class image classifier using TensorFlow 2.x and TensorFlow Hub.\n"
      ]
    },
    {
      "cell_type": "markdown",
      "metadata": {
        "id": "aYcBllMxOA6n"
      },
      "source": [
        "## 1. Problem\n",
        "\n",
        "Identifying the breed of a dog given an image of a dog.\n",
        "\n",
        "When I'm sitting at the cafe and I take a photo of a dog, I want to know what breed of dog it is.\n",
        "## 2. Data\n",
        "\n",
        "The data we're using is from Kaggle's dog breed identification competition.\n",
        "\n",
        "https://www.kaggle.com/c/dog-breed-identification/data\n",
        "## 3. Evaluation\n",
        "\n",
        "The evaluation is a file with prediction probabilities for each dog breed of each test image.\n",
        "\n",
        "https://www.kaggle.com/c/dog-breed-identification/overview/evaluation\n",
        "## 4. Features\n",
        "\n",
        "Some information about the data:\n",
        "\n",
        "    We're dealing with images (unstructured data) so it's probably best we use deep learning/transfer learning.\n",
        "    There are 120 breeds of dogs (this means there are 120 different classes).\n",
        "    There are around 10,000+ images in the training set (these images have labels).\n",
        "    There are around 10,000+ images in the test set (these images have no labels, because we'll want to predict them).\n"
      ]
    },
    {
      "cell_type": "code",
      "execution_count": 1,
      "metadata": {
        "collapsed": true,
        "id": "fXN2pFgfOnPQ"
      },
      "outputs": [],
      "source": [
        "# Unzip the uploaded data into Google Drive\n",
        "#!unzip \"drive/MyDrive/dog-vision/dog-breed-identification.zip\" -d \"drive/MyDrive/dog-vision/\""
      ]
    },
    {
      "cell_type": "markdown",
      "metadata": {
        "id": "EAXSseKgQxZL"
      },
      "source": [
        "### Get our workspace ready\n",
        "\n",
        "- Import TensorFlow 2.x ✅\n",
        "- Import TensorFlow Hub ✅\n",
        "- Make sure we're using a GPU ✅"
      ]
    },
    {
      "cell_type": "code",
      "execution_count": 4,
      "metadata": {
        "colab": {
          "base_uri": "https://localhost:8080/"
        },
        "id": "ZtQAbbybQwdQ",
        "outputId": "90730c85-bad7-4521-b57f-73efe5d3a45a"
      },
      "outputs": [
        {
          "name": "stdout",
          "output_type": "stream",
          "text": [
            "TensorFlow version: 2.17.0\n",
            "TensorFlow Hub version: 0.16.1\n",
            "GPU available (YESSSS!!!!!)\n"
          ]
        }
      ],
      "source": [
        "# Import necessary tools\n",
        "import tensorflow as tf\n",
        "import tensorflow_hub as hub\n",
        "print(\"TensorFlow version:\", tf.__version__)\n",
        "print(\"TensorFlow Hub version:\", hub.__version__)\n",
        "\n",
        "# Check for GPU availability\n",
        "print(\"GPU\", \"available (YESSSS!!!!!)\" if tf.config.list_physical_devices(\"GPU\") else \"not available :(\")"
      ]
    },
    {
      "cell_type": "code",
      "execution_count": 3,
      "metadata": {
        "id": "WlD8UgBdKgFy"
      },
      "outputs": [],
      "source": [
        "import pandas as pd\n",
        "import numpy as np"
      ]
    }
  ],
  "metadata": {
    "accelerator": "GPU",
    "colab": {
      "gpuType": "T4",
      "provenance": []
    },
    "kernelspec": {
      "display_name": "Python 3",
      "name": "python3"
    },
    "language_info": {
      "name": "python"
    }
  },
  "nbformat": 4,
  "nbformat_minor": 0
}
